{
 "cells": [
  {
   "cell_type": "markdown",
   "id": "6daabbbe",
   "metadata": {},
   "source": []
  },
  {
   "cell_type": "code",
   "execution_count": null,
   "id": "5c4915b5",
   "metadata": {},
   "outputs": [],
   "source": []
  },
  {
   "cell_type": "code",
   "execution_count": null,
   "id": "dd523195",
   "metadata": {},
   "outputs": [],
   "source": []
  },
  {
   "cell_type": "code",
   "execution_count": 3,
   "id": "a60b7a82",
   "metadata": {},
   "outputs": [
    {
     "name": "stdout",
     "output_type": "stream",
     "text": [
      "4 litres of fuel used in 4 weeks\n",
      "12 litres of fuel is used in 3 months\n"
     ]
    }
   ],
   "source": [
    "# if 50 litres of fuel is used in 3 days then 100 litres of fuel will be used in 6 days.\n",
    "# a = 6days\n",
    "# b = 4weeks\n",
    "# c = 3months\n",
    "a = input(\"Enter amount of fuel used in 6 days : \")\n",
    "b = int(a)*int(4)\n",
    "print(b, 'litres of fuel used in 4 weeks')\n",
    "# since there's 4 weeks in a month\n",
    "c = int(b)*3\n",
    "print(c, 'litres of fuel is used in 3 months')\n"
   ]
  },
  {
   "cell_type": "code",
   "execution_count": null,
   "id": "97feeeb9",
   "metadata": {},
   "outputs": [],
   "source": []
  }
 ],
 "metadata": {
  "kernelspec": {
   "display_name": "Python 3 (ipykernel)",
   "language": "python",
   "name": "python3"
  },
  "language_info": {
   "codemirror_mode": {
    "name": "ipython",
    "version": 3
   },
   "file_extension": ".py",
   "mimetype": "text/x-python",
   "name": "python",
   "nbconvert_exporter": "python",
   "pygments_lexer": "ipython3",
   "version": "3.11.1"
  }
 },
 "nbformat": 4,
 "nbformat_minor": 5
}
